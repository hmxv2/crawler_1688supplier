{
 "cells": [
  {
   "cell_type": "code",
   "execution_count": 1,
   "metadata": {},
   "outputs": [],
   "source": [
    "import re\n",
    "import pickle\n",
    "import csv\n",
    "import xlwt"
   ]
  },
  {
   "cell_type": "code",
   "execution_count": 2,
   "metadata": {},
   "outputs": [
    {
     "name": "stdout",
     "output_type": "stream",
     "text": [
      "2737\n"
     ]
    }
   ],
   "source": [
    "with open('all_company_links.pickle', 'rb') as f:\n",
    "    all_company_links = pickle.load(f)\n",
    "    \n",
    "with open('all_company_pages.pickle', 'rb') as f:\n",
    "    company_pages = pickle.load(f)\n",
    "print(len(company_pages))"
   ]
  },
  {
   "cell_type": "code",
   "execution_count": 3,
   "metadata": {},
   "outputs": [],
   "source": [
    "mobile_phone_results=[]\n",
    "name_results=[]\n",
    "phone_results=[]\n",
    "address_results=[]\n",
    "company_name_results=[]\n",
    "link_results=[]\n",
    "\n",
    "for idx, company_page in enumerate(company_pages[:]):\n",
    "    has_mobile_phone=0\n",
    "    \n",
    "    mobile_phone = re.findall(r'class=\"m-mobilephone\">[\\s\\D]*<dt>移动电话：</dt>[\\s\\D]*<dd>[\\s\\D]*(\\d+)[\\s\\D]*</dd>', company_page)\n",
    "    if mobile_phone!=[]:\n",
    "        if mobile_phone[0]!='0':\n",
    "            mobile_phone_results.append(mobile_phone[0])\n",
    "            has_mobile_phone=1\n",
    "            \n",
    "    mobile_phone2 = re.findall(r'<dl class=\"m-mobilephone\" data-need-not-login=\"false\" data-no=\"([\\d]+)\">', company_page)\n",
    "    if has_mobile_phone==0 and mobile_phone2!=[]:\n",
    "        mobile_phone_results.append(mobile_phone2[0])\n",
    "        has_mobile_phone=1\n",
    "\n",
    "    if has_mobile_phone:\n",
    "        name = re.findall(r'人：</dt>[\\s\\D]*<dd>[\\s\\D]*.*class=\"membername\" target=\"_blank\">(.*)<', company_page)\n",
    "        name_results.append(name[0])\n",
    "        phone = re.findall(r'话：</dt>[\\s\\D]*<dd>([ \\d]*)</dd>', company_page)\n",
    "        if phone!=[]:\n",
    "            phone_results.append(phone[0])\n",
    "        else:\n",
    "            phone_results.append('无')\n",
    "            \n",
    "        address = re.findall(r'class = \"address\">(.*)[\\s\\D]*<', company_page)\n",
    "        address_results.append(address[0])\n",
    "#         print(address[0])\n",
    "        company_name = re.findall(r'class=\"contact-info\".*>[\\s\\D]*<h4>(.*)</h4>', company_page)\n",
    "        company_name_results.append(company_name[0])\n",
    "#         print(company_name[0])\n",
    "        link_results.append(all_company_links[idx])\n",
    "\n",
    "    "
   ]
  },
  {
   "cell_type": "code",
   "execution_count": 4,
   "metadata": {},
   "outputs": [
    {
     "name": "stdout",
     "output_type": "stream",
     "text": [
      "1823\n",
      "https://shop7038n7835p7p5.1688.com/page/contactinfo.htm\n",
      "013702803982\n"
     ]
    }
   ],
   "source": [
    "print(len(mobile_phone_results))\n",
    "print(all_company_links[1])\n",
    "\n",
    "for x in mobile_phone_results:\n",
    "    if len(x)!=11:\n",
    "        print(x)"
   ]
  },
  {
   "cell_type": "code",
   "execution_count": 12,
   "metadata": {},
   "outputs": [],
   "source": [
    "# csvfile = open('不锈钢西餐具供应商信息.csv', 'w')\n",
    "# csv_writer = csv.writer(csvfile)\n",
    "# csv_writer.writerow(['手机', '联系人姓名', '公司名称', '公司地址', '电话', '1688网址'])\n",
    "\n",
    "\n",
    "# info_exist=set()\n",
    "# for idx, mobile_phone in enumerate(mobile_phone_results):\n",
    "#     name = name_results[idx]\n",
    "#     if (mobile_phone, name) in info_exist:\n",
    "#         pass\n",
    "#     else:\n",
    "#         info_exist.add((mobile_phone, name))\n",
    "#         company_name = company_name_results[idx]\n",
    "#         address = address_results[idx]\n",
    "#         phone = phone_results[idx]\n",
    "#         link = link_results[idx]\n",
    "#         csv_writer.writerow([mobile_phone, name, company_name, address, phone, link])\n",
    "        \n",
    "# csvfile.close()"
   ]
  },
  {
   "cell_type": "code",
   "execution_count": 7,
   "metadata": {},
   "outputs": [],
   "source": [
    "book = xlwt.Workbook()#新建一个excel\n",
    "sheet = book.add_sheet('Sheet1')#添加一个sheet页\n",
    "\n",
    "head = ['手机', '联系人姓名', '公司名称', '公司地址', '电话', '1688网址']\n",
    "for idx, x in enumerate(head):\n",
    "    sheet.write(0, idx, x)\n",
    "    \n",
    "row = 1\n",
    "info_exist=set()\n",
    "for idx, mobile_phone in enumerate(mobile_phone_results):\n",
    "    name = name_results[idx]\n",
    "    if (mobile_phone, name) in info_exist:\n",
    "        pass\n",
    "    else:\n",
    "        info_exist.add((mobile_phone, name))\n",
    "        company_name = company_name_results[idx]\n",
    "        address = address_results[idx]\n",
    "        phone = phone_results[idx]\n",
    "        link = link_results[idx]\n",
    "        \n",
    "        info = [mobile_phone, name, company_name, address, phone, link]\n",
    "        for id, x in enumerate(info):\n",
    "            sheet.write(row, id, x)\n",
    "        row+=1\n",
    "        \n",
    "book.save('不锈钢西餐具供应商信息.xls')#保存到当前目录下"
   ]
  },
  {
   "cell_type": "code",
   "execution_count": 9,
   "metadata": {},
   "outputs": [
    {
     "name": "stdout",
     "output_type": "stream",
     "text": [
      "1711 1656\n"
     ]
    }
   ],
   "source": [
    "print(len(info_exist), len(set(mobile_phone_results)))"
   ]
  }
 ],
 "metadata": {
  "kernelspec": {
   "display_name": "Python 3",
   "language": "python",
   "name": "python3"
  },
  "language_info": {
   "codemirror_mode": {
    "name": "ipython",
    "version": 3
   },
   "file_extension": ".py",
   "mimetype": "text/x-python",
   "name": "python",
   "nbconvert_exporter": "python",
   "pygments_lexer": "ipython3",
   "version": "3.7.0"
  }
 },
 "nbformat": 4,
 "nbformat_minor": 2
}
